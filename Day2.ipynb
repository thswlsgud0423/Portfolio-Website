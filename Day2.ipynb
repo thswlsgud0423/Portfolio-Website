{
 "cells": [
  {
   "cell_type": "code",
   "execution_count": null,
   "metadata": {},
   "outputs": [],
   "source": []
  },
  {
   "cell_type": "code",
   "execution_count": null,
   "metadata": {
    "vscode": {
     "languageId": "html"
    }
   },
   "outputs": [
    {
     "ename": "SyntaxError",
     "evalue": "invalid character '•' (U+2022) (2972171449.py, line 23)",
     "output_type": "error",
     "traceback": [
      "\u001b[1;36m  Cell \u001b[1;32mIn[5], line 23\u001b[1;36m\u001b[0m\n\u001b[1;33m    • <table>: Defines a table.\u001b[0m\n\u001b[1;37m    ^\u001b[0m\n\u001b[1;31mSyntaxError\u001b[0m\u001b[1;31m:\u001b[0m invalid character '•' (U+2022)\n"
     ]
    }
   ],
   "source": [
    "<!DOCTYPE html>\n",
    "<html>\n",
    "<head>\n",
    "    <title>My First Webpage</title>\n",
    "</head>\n",
    "<body>\n",
    "    <h1>Welcome to My Webpage</h1>\n",
    "    <p>This is a paragraph of text.</p>\n",
    "    <a href=\"https://google.com\">GOOGLE</a>\n",
    "    <img src=\"google.jpg\" alt=\"Google Image\">\n",
    "    <!-- Ordered List-->\n",
    "    <ul>\n",
    "        <li>Ordered 1</li>\n",
    "        <li>Ordered 2</li>\n",
    "    </ul>\n",
    "    <!-- Unordered List-->\n",
    "    <ol>\n",
    "        <li>Unordered 1</li>\n",
    "        <li>Unordered 2</li>\n",
    "    </ol>\n",
    "\n",
    "\n",
    "    <!-- \n",
    "    • <table>: Defines a table.\n",
    "    • <tr>: Defines a row in a table.\n",
    "    • <th>: Defines a header cell in a table.\n",
    "    • <td>: Defines a cell in a table.\n",
    "    -->\n",
    "    <table>\n",
    "        <tr>\n",
    "        <th>Header 1</th>\n",
    "        <th>Header 2</th>\n",
    "        </tr>\n",
    "        <tr>\n",
    "        <td>Row 1 Cell 1</td>\n",
    "        <td>Row 1 Cell 2</td>\n",
    "        </tr>\n",
    "        <tr>\n",
    "        <td>Row 2 Cell 1</td>\n",
    "        <td>Row 2 Cell 2</td>\n",
    "        </tr>\n",
    "    </table>\n",
    "\n",
    "    \n",
    "    <form action=\"/submit-data\" method=\"post\">\n",
    "        <!-- Form controls go here-->\n",
    "        <button type=\"submit\">Submit</button>\n",
    "    </form>\n",
    "\n",
    "\n",
    "</body>\n",
    "</html>\n",
    "\n"
   ]
  },
  {
   "cell_type": "markdown",
   "metadata": {},
   "source": [
    "**List**"
   ]
  },
  {
   "cell_type": "code",
   "execution_count": null,
   "metadata": {
    "vscode": {
     "languageId": "html"
    }
   },
   "outputs": [],
   "source": [
    "<!-- Ordered List-->\n",
    "<ul>\n",
    "    <li>Ordered 1</li>\n",
    "    <li>Ordered 2</li>\n",
    "</ul>\n",
    "<!-- Unordered List-->\n",
    "<ol>\n",
    "    <li>Unordered 1</li>\n",
    "    <li>Unordered 2</li>\n",
    "</ol>"
   ]
  },
  {
   "cell_type": "markdown",
   "metadata": {},
   "source": [
    "**The Form Element**\n",
    "\n",
    "\\<form> element represents a document sectioncontaining interactive controls for submitting information."
   ]
  },
  {
   "cell_type": "code",
   "execution_count": null,
   "metadata": {
    "vscode": {
     "languageId": "html"
    }
   },
   "outputs": [],
   "source": [
    "<form action=\"/submit-data\" method=\"post\">\n",
    " <!-- Form controls go here-->\n",
    " <button type=\"submit\">Submit</button>\n",
    "</form>"
   ]
  },
  {
   "cell_type": "markdown",
   "metadata": {},
   "source": [
    "**Input Elements**"
   ]
  },
  {
   "cell_type": "code",
   "execution_count": null,
   "metadata": {
    "vscode": {
     "languageId": "html"
    }
   },
   "outputs": [],
   "source": [
    "<label for=\"username\">Username:</label>\n",
    "<input type=\"text\" id=\"username\" name=\"username\" placeholder=\"Enteryourusername\">\n",
    "\n",
    "<!-- Number Input -->\n",
    "<label for=\"age\">Age:</label>\n",
    "<input type=\"number\" id=\"age\" name=\"age\" min=\"0\" max=\"120\" step=\"1\">\n",
    "\n",
    "<!--  RadioButtons -->\n",
    "<p>Selectyour favoritecolor:</p>\n",
    "<label>\n",
    "<input type=\"radio\" name=\"color\" value=\"red\"> Red\n",
    "</label>\n",
    "<label>\n",
    "<input type=\"radio\" name=\"color\" value=\"blue\"> Blue\n",
    "</label>\n",
    "<label>\n",
    "<input type=\"radio\" name=\"color\" value=\"green\"> Green\n",
    "</label>\n",
    "\n",
    "<!-- File Input-->\n",
    "<label for=\"profile-pic\">Upload profilepicture:</label>\n",
    "<input type=\"file\" id=\"profile-pic\" name=\"profile-pic\" accept=\"image/*\">\n",
    "\n",
    "<!-- Date Imput -->\n",
    "<label for=\"birth-date\">Dateofbirth:</label>\n",
    "<input type=\"date\" id=\"birth-date\" name=\"birth-date\">\n",
    "\n",
    "<!-- Textarea Element -->\n",
    "<label for=\"comments\">Comments:</label>\n",
    "<textarea id=\"comments\" name=\"comments\" rows=\"4\" cols=\"50\" placeholder=\"Enter your idk\">\n",
    "\n",
    "<!-- Select and Option Elements -->\n",
    "<label for=\"country\">Country:</label>\n",
    "<select id=\"country\" name=\"country\">\n",
    "<option value=\"\">--Pleasechoose anoption--</option>\n",
    "<option value=\"us\">United States</option>\n",
    "<option value=\"ca\">Canada</option>\n",
    "<option value=\"mx\">Mexico</option>\n",
    "</select>\n",
    "\n",
    "<!-- Button Elements -->\n",
    "<button type=\"submit\">Submit Form</button>\n",
    "<button type=\"reset\">ClearForm</button>\n",
    "<button type=\"button\" onclick=\"showMessage()\">ClickMe</button>\n",
    "\n",
    "<!-- Form Validation Attributes \n",
    "     required: Specifies that an input field must be filled out\n",
    "-->\n",
    "<input type=\"email\" name=\"email\" required>\n",
    "<input type=\"text\" name=\"zipcode\" pattern=\"[0-9]{5}\" title=\"Five digit zip code\">\n",
    "<input type=\"password\" name=\"password\" minlength=\"8\">"
   ]
  },
  {
   "cell_type": "markdown",
   "metadata": {},
   "source": [
    "The following attributes can be used with most HTML elements:\n",
    " • id: Specifies a unique identifier for an element. Used for JavaScript manipulation,\n",
    " CSS styling, and as fragment identifiers in URLs.\n",
    " <div id=\"header\">This is the header</div>\n",
    " • class: Specifies one or multiple class names for an element. Used primarily for\n",
    " CSS styling and JavaScript selection.\n",
    " <p class=\"highlight important\">This paragraph has two classes.</p>\n",
    " • style: Contains inline CSS style declarations for an element.\n",
    " <h1 style=\"color: blue; font-size: 24px;\">Styled Heading</h1>\n",
    " • title: Provides additional information about an element, typically displayed as\n",
    " a tooltip.\n",
    " <a href=\"https://example.com\" title=\"Visit Example Website\">Example</a>"
   ]
  },
  {
   "cell_type": "code",
   "execution_count": null,
   "metadata": {
    "vscode": {
     "languageId": "html"
    }
   },
   "outputs": [],
   "source": []
  },
  {
   "cell_type": "code",
   "execution_count": null,
   "metadata": {
    "vscode": {
     "languageId": "html"
    }
   },
   "outputs": [],
   "source": [
    "\n",
    "<a href=\"https://example.com\" target=\"_blank\">\n",
    "    Visit Example (opens in new tab)\n",
    "</a>\n",
    "href: Specifies the URL the link goes to\n",
    "target: Determines where to open the linked document\n",
    "\n",
    "\n",
    "\n",
    "<img src=\"image.jpg\" alt=\"Description of image\" width=\"300\" height=\"200\" >\n",
    "src: Specifies the path to the image\n",
    "alt: Provides alternative text for screen readers and if image fails to load\n",
    "width and height: Define dimensions of the image"
   ]
  },
  {
   "cell_type": "markdown",
   "metadata": {
    "vscode": {
     "languageId": "html"
    }
   },
   "source": [
    "**When to Use HTML Entities**"
   ]
  },
  {
   "cell_type": "code",
   "execution_count": null,
   "metadata": {
    "vscode": {
     "languageId": "html"
    }
   },
   "outputs": [],
   "source": [
    "<p>Tocreate a paragraphinHTML, usethe &lt;p&gt; tag.</p>"
   ]
  },
  {
   "cell_type": "code",
   "execution_count": null,
   "metadata": {
    "vscode": {
     "languageId": "html"
    }
   },
   "outputs": [],
   "source": []
  }
 ],
 "metadata": {
  "kernelspec": {
   "display_name": "base",
   "language": "python",
   "name": "python3"
  },
  "language_info": {
   "codemirror_mode": {
    "name": "ipython",
    "version": 3
   },
   "file_extension": ".py",
   "mimetype": "text/x-python",
   "name": "python",
   "nbconvert_exporter": "python",
   "pygments_lexer": "ipython3",
   "version": "3.11.5"
  }
 },
 "nbformat": 4,
 "nbformat_minor": 2
}
